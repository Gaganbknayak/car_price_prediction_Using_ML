{
 "cells": [
  {
   "cell_type": "code",
   "execution_count": 1,
   "id": "00fa2b08",
   "metadata": {},
   "outputs": [],
   "source": [
    "import numpy as np\n",
    "import pandas as pd"
   ]
  },
  {
   "cell_type": "code",
   "execution_count": null,
   "id": "906bb37c",
   "metadata": {},
   "outputs": [],
   "source": [
    "from sklearn.model_selection import train_test_split\n",
    "from sklearn.linear_model import LinearRegression\n",
    "import matplotlib.pyplot as plt"
   ]
  },
  {
   "cell_type": "code",
   "execution_count": null,
   "id": "9de7a16d",
   "metadata": {},
   "outputs": [],
   "source": [
    "cars_data = pd.read_csv('Cardetails.csv')\n",
    "cars_data"
   ]
  },
  {
   "cell_type": "code",
   "execution_count": null,
   "id": "2660e092",
   "metadata": {},
   "outputs": [],
   "source": [
    "cars_data.drop(columns=['torque'],inplace=True)"
   ]
  },
  {
   "cell_type": "code",
   "execution_count": null,
   "id": "39691de6",
   "metadata": {},
   "outputs": [],
   "source": [
    "cars_data.shape"
   ]
  },
  {
   "cell_type": "markdown",
   "id": "7d3f869d",
   "metadata": {},
   "source": [
    "Preprocessing"
   ]
  },
  {
   "cell_type": "markdown",
   "id": "cc3bd6dd",
   "metadata": {},
   "source": [
    "NUll Check"
   ]
  },
  {
   "cell_type": "code",
   "execution_count": null,
   "id": "fd93caed",
   "metadata": {},
   "outputs": [],
   "source": [
    "cars_data.isnull().sum()"
   ]
  },
  {
   "cell_type": "code",
   "execution_count": null,
   "id": "b870b6b9",
   "metadata": {},
   "outputs": [],
   "source": [
    "#droping null values\n",
    "cars_data.dropna(inplace=True)"
   ]
  },
  {
   "cell_type": "code",
   "execution_count": null,
   "id": "26439983",
   "metadata": {},
   "outputs": [],
   "source": [
    "cars_data.shape"
   ]
  },
  {
   "cell_type": "code",
   "execution_count": null,
   "id": "8d55a6fa",
   "metadata": {},
   "outputs": [],
   "source": [
    "#checking duplicate values\n",
    "cars_data.duplicated().sum()"
   ]
  },
  {
   "cell_type": "code",
   "execution_count": null,
   "id": "aafbfc74",
   "metadata": {},
   "outputs": [],
   "source": [
    "#droping duplicates\n",
    "cars_data.drop_duplicates(inplace=True)\n",
    "cars_data.shape"
   ]
  },
  {
   "cell_type": "markdown",
   "id": "029b35cd",
   "metadata": {},
   "source": [
    "Data Analysis"
   ]
  },
  {
   "cell_type": "code",
   "execution_count": null,
   "id": "91929b59",
   "metadata": {},
   "outputs": [],
   "source": [
    "for col in cars_data.columns:\n",
    "    print(\"Unique values of col: \",col)\n",
    "    print(cars_data[col].unique())\n",
    "    print('-----------------------')"
   ]
  },
  {
   "cell_type": "code",
   "execution_count": null,
   "id": "e65f0d19",
   "metadata": {},
   "outputs": [],
   "source": [
    "def get_brand(car_name):\n",
    "    car_name = car_name.split(' ')[0]\n",
    "    return car_name.strip(' ')"
   ]
  },
  {
   "cell_type": "code",
   "execution_count": null,
   "id": "8afe2626",
   "metadata": {},
   "outputs": [],
   "source": [
    "def clean_data(value):\n",
    "    value = value.split(' ')[0]\n",
    "    value = value.strip()\n",
    "    if value == '':\n",
    "        value=0\n",
    "    return float(value)"
   ]
  },
  {
   "cell_type": "code",
   "execution_count": null,
   "id": "da388725",
   "metadata": {},
   "outputs": [],
   "source": [
    "get_brand('Skoda Rapid 1.5 TDI Ambition')"
   ]
  },
  {
   "cell_type": "code",
   "execution_count": null,
   "id": "03f053f5",
   "metadata": {},
   "outputs": [],
   "source": [
    "cars_data['name'] = cars_data['name'].apply(get_brand)"
   ]
  },
  {
   "cell_type": "code",
   "execution_count": null,
   "id": "820e5d33",
   "metadata": {},
   "outputs": [],
   "source": [
    "cars_data['name'].unique()"
   ]
  },
  {
   "cell_type": "code",
   "execution_count": null,
   "id": "3624bf83",
   "metadata": {},
   "outputs": [],
   "source": [
    "cars_data['mileage'] = cars_data['mileage'].apply(clean_data)"
   ]
  },
  {
   "cell_type": "code",
   "execution_count": null,
   "id": "3bc5dea2",
   "metadata": {},
   "outputs": [],
   "source": [
    "cars_data['max_power'] = cars_data['max_power'].apply(clean_data)"
   ]
  },
  {
   "cell_type": "code",
   "execution_count": null,
   "id": "795fd25e",
   "metadata": {},
   "outputs": [],
   "source": [
    "cars_data['engine'] = cars_data['engine'].apply(clean_data)"
   ]
  },
  {
   "cell_type": "code",
   "execution_count": null,
   "id": "66eb236e",
   "metadata": {},
   "outputs": [],
   "source": [
    "for col in cars_data.columns:\n",
    "    print(\"Unique values of col: \",col)\n",
    "    print(cars_data[col].unique())\n",
    "    print('-----------------------')"
   ]
  },
  {
   "cell_type": "code",
   "execution_count": null,
   "id": "2196af79",
   "metadata": {},
   "outputs": [],
   "source": [
    "cars_data.info()"
   ]
  },
  {
   "cell_type": "code",
   "execution_count": null,
   "id": "0b9de8fc",
   "metadata": {},
   "outputs": [],
   "source": [
    "cars_data['name'].replace(['Maruti', 'Skoda', 'Honda', 'Hyundai', 'Toyota', 'Ford', 'Renault',\n",
    "       'Mahindra', 'Tata', 'Chevrolet', 'Datsun', 'Jeep', 'Mercedes-Benz',\n",
    "       'Mitsubishi', 'Audi', 'Volkswagen', 'BMW', 'Nissan', 'Lexus',\n",
    "       'Jaguar', 'Land', 'MG', 'Volvo', 'Daewoo', 'Kia', 'Fiat', 'Force',\n",
    "       'Ambassador', 'Ashok', 'Isuzu', 'Opel'],\n",
    "                          [1,2,3,4,5,6,7,8,9,10,11,12,13,14,15,16,17,18,19,20,21,22,23,24,25,26,27,28,29,30,31],inplace=True)"
   ]
  },
  {
   "cell_type": "code",
   "execution_count": null,
   "id": "fe3cdf5b",
   "metadata": {},
   "outputs": [],
   "source": [
    "cars_data['fuel'].replace(['Diesel', 'Petrol', 'LPG', 'CNG'],[1,2,3,4],inplace=True)"
   ]
  },
  {
   "cell_type": "code",
   "execution_count": null,
   "id": "29840e66",
   "metadata": {},
   "outputs": [],
   "source": [
    "cars_data['seller_type'].replace(['Individual', 'Dealer', 'Trustmark Dealer'],[1,2,3],inplace=True)"
   ]
  },
  {
   "cell_type": "code",
   "execution_count": null,
   "id": "b5e3257c",
   "metadata": {},
   "outputs": [],
   "source": [
    "cars_data['transmission'].replace(['Manual', 'Automatic'],[1,2],inplace=True)"
   ]
  },
  {
   "cell_type": "code",
   "execution_count": null,
   "id": "4ba108b6",
   "metadata": {},
   "outputs": [],
   "source": [
    "cars_data['owner'].replace(['First Owner', 'Second Owner', 'Third Owner',\n",
    "       'Fourth & Above Owner', 'Test Drive Car'],[1,2,3,4,5],inplace=True)"
   ]
  },
  {
   "cell_type": "code",
   "execution_count": null,
   "id": "a7e28990",
   "metadata": {},
   "outputs": [],
   "source": [
    "cars_data.reset_index(inplace=True)"
   ]
  },
  {
   "cell_type": "code",
   "execution_count": null,
   "id": "6d093622",
   "metadata": {},
   "outputs": [],
   "source": [
    "cars_data.drop(columns='index',inplace=True)"
   ]
  },
  {
   "cell_type": "code",
   "execution_count": null,
   "id": "e28ccbf6",
   "metadata": {},
   "outputs": [],
   "source": [
    "cars_data.info()"
   ]
  },
  {
   "cell_type": "code",
   "execution_count": null,
   "id": "6aca8ebd",
   "metadata": {},
   "outputs": [],
   "source": [
    "cars_data"
   ]
  },
  {
   "cell_type": "code",
   "execution_count": null,
   "id": "519f7386",
   "metadata": {},
   "outputs": [],
   "source": [
    "input_data = cars_data.drop(columns=['selling_price'])\n",
    "output_data = cars_data['selling_price']"
   ]
  },
  {
   "cell_type": "code",
   "execution_count": null,
   "id": "88f985cb",
   "metadata": {},
   "outputs": [],
   "source": [
    "x_train,x_test,y_train,y_test = train_test_split(input_data,output_data,test_size=0.2)"
   ]
  },
  {
   "cell_type": "code",
   "execution_count": null,
   "id": "69b496d7",
   "metadata": {},
   "outputs": [],
   "source": [
    "#model creation\n",
    "model = LinearRegression()"
   ]
  },
  {
   "cell_type": "code",
   "execution_count": null,
   "id": "ca25c372",
   "metadata": {},
   "outputs": [],
   "source": [
    "#train model\n",
    "model.fit(x_train,y_train)"
   ]
  },
  {
   "cell_type": "code",
   "execution_count": null,
   "id": "d6618331",
   "metadata": {},
   "outputs": [],
   "source": [
    "#predict\n",
    "predict = model.predict(x_test)"
   ]
  },
  {
   "cell_type": "code",
   "execution_count": null,
   "id": "82a18232",
   "metadata": {},
   "outputs": [],
   "source": [
    "predict"
   ]
  },
  {
   "cell_type": "code",
   "execution_count": null,
   "id": "0e972711",
   "metadata": {},
   "outputs": [],
   "source": [
    "x_train.head(1)"
   ]
  },
  {
   "cell_type": "code",
   "execution_count": null,
   "id": "8fd3dfbc",
   "metadata": {},
   "outputs": [],
   "source": [
    "input_data_model = pd.DataFrame([[3,2015,60000,1,1,1,1,25.1,1498.0,98.6,5.0]],columns=['name','year','km_driven','fuel','seller_type','transmission','owner','mileage','engine','max_power','seats'])"
   ]
  },
  {
   "cell_type": "code",
   "execution_count": null,
   "id": "0f4d40b8",
   "metadata": {},
   "outputs": [],
   "source": [
    "input_data_model"
   ]
  },
  {
   "cell_type": "code",
   "execution_count": null,
   "id": "c068d12e",
   "metadata": {},
   "outputs": [],
   "source": [
    "model.predict(input_data_model)"
   ]
  },
  {
   "cell_type": "code",
   "execution_count": null,
   "id": "b2dedf66",
   "metadata": {},
   "outputs": [],
   "source": [
    "import pickle as pk"
   ]
  },
  {
   "cell_type": "code",
   "execution_count": null,
   "id": "0433423f",
   "metadata": {},
   "outputs": [],
   "source": [
    "pk.dump(model,open('model.pkl','wb'))"
   ]
  },
  {
   "cell_type": "code",
   "execution_count": null,
   "id": "fdd038fb",
   "metadata": {},
   "outputs": [],
   "source": [
    "pip install streamlit"
   ]
  },
  {
   "cell_type": "code",
   "execution_count": null,
   "id": "9973750c",
   "metadata": {},
   "outputs": [],
   "source": [
    "import streamlit as st"
   ]
  },
  {
   "cell_type": "code",
   "execution_count": null,
   "id": "02b1f2bf",
   "metadata": {},
   "outputs": [],
   "source": []
  }
 ],
 "metadata": {
  "kernelspec": {
   "display_name": "Python 3 (ipykernel)",
   "language": "python",
   "name": "python3"
  },
  "language_info": {
   "codemirror_mode": {
    "name": "ipython",
    "version": 3
   },
   "file_extension": ".py",
   "mimetype": "text/x-python",
   "name": "python",
   "nbconvert_exporter": "python",
   "pygments_lexer": "ipython3",
   "version": "3.9.13"
  }
 },
 "nbformat": 4,
 "nbformat_minor": 5
}
